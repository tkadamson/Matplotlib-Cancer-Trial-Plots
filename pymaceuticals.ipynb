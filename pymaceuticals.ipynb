{
 "cells": [
  {
   "cell_type": "markdown",
   "metadata": {},
   "source": [
    "## Observations and Insights "
   ]
  },
  {
   "cell_type": "markdown",
   "metadata": {},
   "source": [
    "#### Observation 1\n",
    "\n",
    "Based on the topline summary (see Summary Statistics below), the drug regimens Capomulin and Ramicane have significantly lower average tumor volumes compared the placebo and other regimens. Not only do these two regimens have the lowest mean and median average tumor volume-- 40.68 and 40.22 mm^3 average respecitively-- they also have the lowest standard deviation. This indicates that the drugs work more consistently across the population, as opposed to working on some mice and not on others. We can infer that these two drugs are the most promising for future trials\n",
    "\n",
    "#### Observation 2\n",
    "Also based on the topline summary, it is clear that some drugs are not effective at reducing tumor volume given that the mean and median are close to the plecebo volume of 54.03 mm^3. Naftisol, Stelasyn, and Ketapril seem to have no effect (average tumor volume is actually higher for the Ketapril regimen at 55.24 mm^3). From this, we can infer that these regimens require alteration and/or more study before continuing future trials. \n",
    "\n",
    "#### Observation 3\n",
    "For the mice on the Capomulin regimen, average tumor volume is highly correlated to the individual mouse's weight. Given a correlation coefficient of greater than 0.8, that indicates a strong relationship between these two factors. In the future, I would like to examine this relationship across all regimens to see if the trend holds. If it does, that could be an area of future study to determine if weight might play a role in the progression of tumors. "
   ]
  },
  {
   "cell_type": "code",
   "execution_count": 1,
   "metadata": {},
   "outputs": [],
   "source": [
    "# Dependencies and Setup\n",
    "import matplotlib.pyplot as plt\n",
    "import pandas as pd\n",
    "import scipy.stats as st\n",
    "from scipy.stats import sem\n",
    "from scipy.stats import linregress\n",
    "import numpy as np\n",
    "\n",
    "# Study data files\n",
    "mouse_metadata_path = \"data/Mouse_metadata.csv\"\n",
    "study_results_path = \"data/Study_results.csv\"\n",
    "\n",
    "# Read the mouse data and the study results\n",
    "mouse_metadata = pd.read_csv(mouse_metadata_path)\n",
    "study_results = pd.read_csv(study_results_path)"
   ]
  },
  {
   "cell_type": "code",
   "execution_count": 2,
   "metadata": {},
   "outputs": [],
   "source": [
    "#Join tables on mouse ID\n",
    "full_mice_data = pd.merge(study_results, mouse_metadata, on=\"Mouse ID\", how=\"outer\")"
   ]
  },
  {
   "cell_type": "code",
   "execution_count": 3,
   "metadata": {},
   "outputs": [],
   "source": [
    "#Find each time instance\n",
    "times = study_results['Timepoint'].unique()\n",
    "\n",
    "#Will fill in this list with any duplicate mice to exclude\n",
    "duplicates = []\n",
    "\n",
    "#Initiate loop\n",
    "for time in times:\n",
    "    \n",
    "    #Filter to each time period\n",
    "    temp_time_df = study_results.loc[study_results['Timepoint'] == time, :]\n",
    "\n",
    "    #Count the instances of each mouce during that time period\n",
    "    #If a mouse is counted more than once, it's a duplicate\n",
    "    temp_mice_count = pd.DataFrame([temp_time_df['Mouse ID'].value_counts()])\n",
    "\n",
    "    temp_mice_count = temp_mice_count.transpose()\n",
    "\n",
    "    #Filter to the duplicate mice (where count > 1)\n",
    "    extra_mice = temp_mice_count.loc[temp_mice_count['Mouse ID'] > 1, :]\n",
    "\n",
    "    #Add duplicate mouse ID to dupicate list\n",
    "    if extra_mice.empty == False:\n",
    "        for row in extra_mice:\n",
    "            duplicates.append(extra_mice.index[0])\n",
    "            "
   ]
  },
  {
   "cell_type": "code",
   "execution_count": 4,
   "metadata": {},
   "outputs": [],
   "source": [
    "# Create a clean DataFrame by dropping all data associated with the duplicate mouse by its ID.\n",
    "\n",
    "#Loop through each value in the duplicates list\n",
    "for mouse in duplicates:\n",
    "    \n",
    "    #Select only those rows which do not contain the current iterated value in duplicates\n",
    "    clean_mouse_data = full_mice_data.loc[full_mice_data[\"Mouse ID\"] != mouse, :]\n",
    "    \n",
    "    #Also doing the same for the metadata table in case I need to use it separately later\n",
    "    clean_metadata = mouse_metadata.loc[mouse_metadata[\"Mouse ID\"] != mouse, :]\n"
   ]
  },
  {
   "cell_type": "markdown",
   "metadata": {},
   "source": [
    "## Summary Statistics"
   ]
  },
  {
   "cell_type": "code",
   "execution_count": 5,
   "metadata": {},
   "outputs": [
    {
     "data": {
      "text/html": [
       "<div>\n",
       "<style scoped>\n",
       "    .dataframe tbody tr th:only-of-type {\n",
       "        vertical-align: middle;\n",
       "    }\n",
       "\n",
       "    .dataframe tbody tr th {\n",
       "        vertical-align: top;\n",
       "    }\n",
       "\n",
       "    .dataframe thead th {\n",
       "        text-align: right;\n",
       "    }\n",
       "</style>\n",
       "<table border=\"1\" class=\"dataframe\">\n",
       "  <thead>\n",
       "    <tr style=\"text-align: right;\">\n",
       "      <th></th>\n",
       "      <th>Mean</th>\n",
       "      <th>Median</th>\n",
       "      <th>Variance</th>\n",
       "      <th>Standard Deviation</th>\n",
       "      <th>Standard Error</th>\n",
       "    </tr>\n",
       "    <tr>\n",
       "      <th>Drug</th>\n",
       "      <th></th>\n",
       "      <th></th>\n",
       "      <th></th>\n",
       "      <th></th>\n",
       "      <th></th>\n",
       "    </tr>\n",
       "  </thead>\n",
       "  <tbody>\n",
       "    <tr>\n",
       "      <th>Capomulin</th>\n",
       "      <td>40.675741</td>\n",
       "      <td>41.557809</td>\n",
       "      <td>24.839296</td>\n",
       "      <td>4.983904</td>\n",
       "      <td>0.329346</td>\n",
       "    </tr>\n",
       "    <tr>\n",
       "      <th>Ketapril</th>\n",
       "      <td>55.235638</td>\n",
       "      <td>53.698743</td>\n",
       "      <td>68.188930</td>\n",
       "      <td>8.257659</td>\n",
       "      <td>0.603860</td>\n",
       "    </tr>\n",
       "    <tr>\n",
       "      <th>Naftisol</th>\n",
       "      <td>54.331565</td>\n",
       "      <td>52.509285</td>\n",
       "      <td>65.817708</td>\n",
       "      <td>8.112811</td>\n",
       "      <td>0.596466</td>\n",
       "    </tr>\n",
       "    <tr>\n",
       "      <th>Infubinol</th>\n",
       "      <td>52.884795</td>\n",
       "      <td>51.820584</td>\n",
       "      <td>42.886388</td>\n",
       "      <td>6.548770</td>\n",
       "      <td>0.492236</td>\n",
       "    </tr>\n",
       "    <tr>\n",
       "      <th>Stelasyn</th>\n",
       "      <td>54.233149</td>\n",
       "      <td>52.431737</td>\n",
       "      <td>59.122106</td>\n",
       "      <td>7.689090</td>\n",
       "      <td>0.573111</td>\n",
       "    </tr>\n",
       "    <tr>\n",
       "      <th>Ramicane</th>\n",
       "      <td>40.216745</td>\n",
       "      <td>40.673236</td>\n",
       "      <td>23.383692</td>\n",
       "      <td>4.835669</td>\n",
       "      <td>0.320955</td>\n",
       "    </tr>\n",
       "    <tr>\n",
       "      <th>Zoniferol</th>\n",
       "      <td>53.236507</td>\n",
       "      <td>51.818479</td>\n",
       "      <td>48.266689</td>\n",
       "      <td>6.947423</td>\n",
       "      <td>0.516398</td>\n",
       "    </tr>\n",
       "    <tr>\n",
       "      <th>Propriva</th>\n",
       "      <td>52.320930</td>\n",
       "      <td>50.446266</td>\n",
       "      <td>43.555716</td>\n",
       "      <td>6.599675</td>\n",
       "      <td>0.544332</td>\n",
       "    </tr>\n",
       "    <tr>\n",
       "      <th>Placebo</th>\n",
       "      <td>54.033581</td>\n",
       "      <td>52.288934</td>\n",
       "      <td>60.830138</td>\n",
       "      <td>7.799368</td>\n",
       "      <td>0.581331</td>\n",
       "    </tr>\n",
       "    <tr>\n",
       "      <th>Ceftamin</th>\n",
       "      <td>52.591172</td>\n",
       "      <td>51.776157</td>\n",
       "      <td>39.069446</td>\n",
       "      <td>6.250556</td>\n",
       "      <td>0.469821</td>\n",
       "    </tr>\n",
       "  </tbody>\n",
       "</table>\n",
       "</div>"
      ],
      "text/plain": [
       "                Mean     Median   Variance  Standard Deviation  Standard Error\n",
       "Drug                                                                          \n",
       "Capomulin  40.675741  41.557809  24.839296            4.983904        0.329346\n",
       "Ketapril   55.235638  53.698743  68.188930            8.257659        0.603860\n",
       "Naftisol   54.331565  52.509285  65.817708            8.112811        0.596466\n",
       "Infubinol  52.884795  51.820584  42.886388            6.548770        0.492236\n",
       "Stelasyn   54.233149  52.431737  59.122106            7.689090        0.573111\n",
       "Ramicane   40.216745  40.673236  23.383692            4.835669        0.320955\n",
       "Zoniferol  53.236507  51.818479  48.266689            6.947423        0.516398\n",
       "Propriva   52.320930  50.446266  43.555716            6.599675        0.544332\n",
       "Placebo    54.033581  52.288934  60.830138            7.799368        0.581331\n",
       "Ceftamin   52.591172  51.776157  39.069446            6.250556        0.469821"
      ]
     },
     "execution_count": 5,
     "metadata": {},
     "output_type": "execute_result"
    }
   ],
   "source": [
    "# Use groupby and summary statistical methods to calculate the following properties of each drug regimen: \n",
    "# mean, median, variance, standard deviation, and SEM of the tumor volume. \n",
    "# Assemble the resulting series into a single summary dataframe.\n",
    "\n",
    "#Get drug names for loop\n",
    "drugs = clean_mouse_data[\"Drug Regimen\"].unique()\n",
    "\n",
    "#Headers on the summary table\n",
    "summary_df = pd.DataFrame({\"Drug\": [], \n",
    "                          \"Mean\": [], \"Median\": [], \"Variance\": [], \"Standard Deviation\": [], \"Standard Error\": []})\n",
    "\n",
    "#Begin loop for each drug\n",
    "for drug in drugs:\n",
    "    \n",
    "    #Filter to a signle drug\n",
    "    temp_drug_df = clean_mouse_data.loc[clean_mouse_data[\"Drug Regimen\"] == drug, :]\n",
    "\n",
    "    #Caluclate summary stats\n",
    "    drug_mean = temp_drug_df[\"Tumor Volume (mm3)\"].mean()\n",
    "    drug_median = temp_drug_df[\"Tumor Volume (mm3)\"].median()\n",
    "    drug_variance = np.var(temp_drug_df[\"Tumor Volume (mm3)\"])\n",
    "    drug_stdev = np.std(temp_drug_df[\"Tumor Volume (mm3)\"])\n",
    "    drug_sem = sem(temp_drug_df[\"Tumor Volume (mm3)\"])\n",
    "    \n",
    "    #Add each summary data point to the summary data frame\n",
    "    summary_df = summary_df.append({\"Drug\": drug, \"Mean\": drug_mean, \"Median\": drug_median,\n",
    "                                   \"Variance\": drug_variance, \"Standard Deviation\": drug_stdev,\n",
    "                                   \"Standard Error\": drug_sem}, ignore_index=True)\n",
    "\n",
    "#Set drug as index for clarity\n",
    "summary_df.set_index('Drug', inplace = True)\n",
    "\n",
    "summary_df"
   ]
  },
  {
   "cell_type": "markdown",
   "metadata": {},
   "source": [
    "## Bar and Pie Charts"
   ]
  },
  {
   "cell_type": "code",
   "execution_count": 6,
   "metadata": {},
   "outputs": [
    {
     "data": {
      "text/plain": [
       "(0, 255)"
      ]
     },
     "execution_count": 6,
     "metadata": {},
     "output_type": "execute_result"
    },
    {
     "data": {
      "image/png": "[encoded data removed]",
      "text/plain": [
       "<Figure size 432x288 with 1 Axes>"
      ]
     },
     "metadata": {
      "needs_background": "light"
     },
     "output_type": "display_data"
    }
   ],
   "source": [
    "# Generate a bar plot showing the total number of measurements taken on each drug regimen using pandas.\n",
    "\n",
    "#Group by drug to get counts\n",
    "drugs_grouped = clean_mouse_data.groupby(\"Drug Regimen\").count()\n",
    "\n",
    "#Filter only to timepoint to count how many times each drug was administered\n",
    "measurements_count = drugs_grouped[\"Timepoint\"]\n",
    "\n",
    "#Plot\n",
    "measurements_count.plot(kind='bar')\n",
    "\n",
    "#Adding Title, Limits, etc\n",
    "plt.title(\"Count of Measurements by Drug Regimen\")\n",
    "plt.ylim(0, 255)\n"
   ]
  },
  {
   "cell_type": "code",
   "execution_count": 7,
   "metadata": {},
   "outputs": [
    {
     "data": {
      "text/plain": [
       "(0, 255)"
      ]
     },
     "execution_count": 7,
     "metadata": {},
     "output_type": "execute_result"
    },
    {
     "data": {
      "image/png": "[encoded data removed]",
      "text/plain": [
       "<Figure size 432x288 with 1 Axes>"
      ]
     },
     "metadata": {
      "needs_background": "light"
     },
     "output_type": "display_data"
    }
   ],
   "source": [
    "# Generate a bar plot showing the total number of measurements taken on each drug regimen using pyplot.\n",
    "\n",
    "#Set x-axis as numerical value (because I want to  adjust the tilt of the drug titles)\n",
    "x_axis = np.arange(len(drugs))\n",
    "tick_locations = [value for value in x_axis]\n",
    "\n",
    "#Plot using plt.bar\n",
    "plt.bar(tick_locations, measurements_count)\n",
    "\n",
    "#Drugs list needs sorted alphabetically as that's how measurements_count is sorted\n",
    "arr_drugs = np.sort(drugs)\n",
    "\n",
    "#Set xticks to the drug regimen, rotated vertically\n",
    "plt.xticks(tick_locations, arr_drugs, rotation=\"vertical\")\n",
    "\n",
    "#Adding Title, Limits, etc\n",
    "plt.title(\"Count of Measurements by Drug Regimen\")\n",
    "plt.xlabel(\"Drug Regimen\")\n",
    "plt.ylim(0, 255)"
   ]
  },
  {
   "cell_type": "code",
   "execution_count": 8,
   "metadata": {
    "scrolled": true
   },
   "outputs": [
    {
     "data": {
      "text/plain": [
       "<matplotlib.axes._subplots.AxesSubplot at 0x7fb1f84c6ef0>"
      ]
     },
     "execution_count": 8,
     "metadata": {},
     "output_type": "execute_result"
    },
    {
     "data": {
      "image/png": "[encoded data removed]",
      "text/plain": [
       "<Figure size 432x288 with 1 Axes>"
      ]
     },
     "metadata": {},
     "output_type": "display_data"
    }
   ],
   "source": [
    "# Generate a pie plot showing the distribution of female versus male mice using pandas\n",
    "\n",
    "#Get sex data by value_counts on the sex column\n",
    "sex_breakdown = clean_metadata['Sex'].value_counts()\n",
    "\n",
    "#Plot (including title)\n",
    "sex_breakdown.plot(kind='pie', autopct=\"%1.1f%%\", title = 'Trial Mice by Sex')\n"
   ]
  },
  {
   "cell_type": "code",
   "execution_count": 9,
   "metadata": {},
   "outputs": [
    {
     "data": {
      "text/plain": [
       "Text(0.5, 1.0, 'Trial Mice by Sex')"
      ]
     },
     "execution_count": 9,
     "metadata": {},
     "output_type": "execute_result"
    },
    {
     "data": {
      "image/png": "[encoded data removed]",
      "text/plain": [
       "<Figure size 432x288 with 1 Axes>"
      ]
     },
     "metadata": {},
     "output_type": "display_data"
    }
   ],
   "source": [
    "# Generate a pie plot showing the distribution of female versus male mice using pyplot\n",
    "\n",
    "#Plot using the same sex_breakdown above\n",
    "plt.pie(sex_breakdown, autopct=\"%1.1f%%\", labels = ['Male', 'Female'])\n",
    "\n",
    "#Set title\n",
    "plt.title('Trial Mice by Sex')\n"
   ]
  },
  {
   "cell_type": "markdown",
   "metadata": {},
   "source": [
    "## Quartiles, Outliers and Boxplots"
   ]
  },
  {
   "cell_type": "code",
   "execution_count": 10,
   "metadata": {},
   "outputs": [],
   "source": [
    "# Calculate the final tumor volume of each mouse across four of the treatment regimens:  \n",
    "# Capomulin, Ramicane, Infubinol, and Ceftamin\n",
    "\n",
    "#Create one blank list for each drug\n",
    "capomulin_data = []\n",
    "ramicane_data = []\n",
    "infubinol_data = []\n",
    "ceftamin_data = []\n",
    "\n",
    "#Narow table to only the drugs specified\n",
    "narrowed_mouse_data = clean_mouse_data.loc[(clean_mouse_data['Drug Regimen'] == 'Capomulin') |  \n",
    "                                            (clean_mouse_data['Drug Regimen'] == 'Ramicane') |\n",
    "                                            (clean_mouse_data['Drug Regimen'] == 'Infubinol') |\n",
    "                                            (clean_mouse_data['Drug Regimen'] == 'Ceftamin'),:]\n",
    "\n",
    "#Get all the mice into a list\n",
    "narrowed_mice = narrowed_mouse_data['Mouse ID'].unique()\n",
    "\n",
    "for mouse in narrowed_mice:\n",
    "    \n",
    "    #narrow to a specific mouse (will go in loop later)\n",
    "    temp_mouse_data = narrowed_mouse_data.loc[narrowed_mouse_data['Mouse ID'] == mouse, :] \n",
    "\n",
    "    #Get the max time\n",
    "    max_time = temp_mouse_data['Timepoint'].max()\n",
    "\n",
    "    #Filter to last time\n",
    "    max_mouse_data = temp_mouse_data.loc[temp_mouse_data['Timepoint'] == max_time, :]\n",
    "\n",
    "    #Get tumor volume\n",
    "    final_tumor_volume = max_mouse_data.iloc[0,2]\n",
    "\n",
    "    #Conditional to put the volume in the correct drug list\n",
    "    if max_mouse_data.iloc[0,4] == 'Capomulin':\n",
    "       capomulin_data.append(final_tumor_volume)\n",
    "    elif max_mouse_data.iloc[0,4] == 'Ramicane':\n",
    "       ramicane_data.append(final_tumor_volume)\n",
    "    elif max_mouse_data.iloc[0,4] == 'Infubinol':\n",
    "       infubinol_data.append(final_tumor_volume)\n",
    "    elif max_mouse_data.iloc[0,4] == 'Ceftamin':\n",
    "       ceftamin_data.append(final_tumor_volume)\n"
   ]
  },
  {
   "cell_type": "code",
   "execution_count": 11,
   "metadata": {},
   "outputs": [
    {
     "name": "stdout",
     "output_type": "stream",
     "text": [
      "For Capomulin:\n",
      "Lower quartile: 32.37735684 mm^3\n",
      "Upper quartile: 40.1592203 mm^3\n",
      "There are no outliers in this data based on the 1.5*IQR method\n",
      "----------------------\n",
      "For Ramicane:\n",
      "Lower quartile: 31.56046955 mm^3\n",
      "Upper quartile: 40.65900627 mm^3\n",
      "There are no outliers in this data based on the 1.5*IQR method\n",
      "----------------------\n",
      "For Infubinol:\n",
      "Lower quartile: 54.04860769 mm^3\n",
      "Upper quartile: 65.52574285 mm^3\n",
      "Potential outliers are: [36.321345799999996]\n",
      "----------------------\n",
      "For Ceftamin:\n",
      "Lower quartile: 48.72207785 mm^3\n",
      "Upper quartile: 64.29983003 mm^3\n",
      "There are no outliers in this data based on the 1.5*IQR method\n",
      "----------------------\n"
     ]
    }
   ],
   "source": [
    "#Calculate Quartiles and IQR for each drug and determine if there are any outliers\n",
    "\n",
    "#Place all the drug data into a data frame so the quantile() function can be used\n",
    "tumor_data = pd.DataFrame({\"Capomulin\": capomulin_data, \"Ramicane\": ramicane_data,\n",
    "                           \"Infubinol\": infubinol_data, \"Ceftamin\": ceftamin_data})\n",
    "\n",
    "#List for the loop\n",
    "tumor_data_drugs = ['Capomulin', \"Ramicane\", \"Infubinol\", \"Ceftamin\"]\n",
    "\n",
    "for drug in tumor_data_drugs:\n",
    "    \n",
    "    #Empty out the outliers array\n",
    "    outliers = []\n",
    "    \n",
    "    #Calculate quartiles, upper/lower bounds, and iqr\n",
    "    quartiles = tumor_data[drug].quantile([0.25, 0.5, 0.75])\n",
    "\n",
    "    lower_q = quartiles[0.25]\n",
    "    upper_q = quartiles[0.75]\n",
    "\n",
    "    iqr = upper_q - lower_q\n",
    "\n",
    "    #Search for outliers in each column of the turmor_data table\n",
    "    for measure in tumor_data[drug]:\n",
    "        if (measure > (upper_q + (1.5*iqr))) | (measure < (lower_q - (1.5*iqr))):\n",
    "            outliers.append(measure)\n",
    "    \n",
    "    #Print a statement for each drug about its potential outliers\n",
    "    print(f\"For {drug}:\")\n",
    "    print(f\"Lower quartile: {lower_q} mm^3\")\n",
    "    print(f\"Upper quartile: {upper_q} mm^3\")\n",
    "    if not outliers:\n",
    "        print(\"There are no outliers in this data based on the 1.5*IQR method\")\n",
    "    else:\n",
    "        print(f\"Potential outliers are: {outliers}\")\n",
    "    print(\"----------------------\")\n"
   ]
  },
  {
   "cell_type": "code",
   "execution_count": 12,
   "metadata": {},
   "outputs": [
    {
     "data": {
      "image/png": "[encoded data removed]",
      "text/plain": [
       "<Figure size 432x288 with 4 Axes>"
      ]
     },
     "metadata": {
      "needs_background": "light"
     },
     "output_type": "display_data"
    }
   ],
   "source": [
    "# Generate a box plot of the final tumor volume of each mouse across four regimens of interest\n",
    "\n",
    "#Set up the subplots and outlier style\n",
    "fig, (ax1, ax2, ax3, ax4) = plt.subplots(1 ,4, sharex=True)\n",
    "outlier_style = dict(markerfacecolor='r', marker='*')\n",
    "\n",
    "#Pass each drugs data to a different subplot\n",
    "#Include a ylim so that each drug is on the same scale\n",
    "\n",
    "ax1.set_title('Capomulin')\n",
    "ax1.set_ylabel('Final Turmor Volume (mm3)')\n",
    "ax1.boxplot(capomulin_data, flierprops=outlier_style)\n",
    "ax1.set_ylim(19, 81)\n",
    "\n",
    "ax2.set_title('Ramicane')\n",
    "ax2.boxplot(ramicane_data, flierprops=outlier_style)\n",
    "ax2.set_ylim(19, 81)\n",
    "\n",
    "ax3.set_title('Infubinol')\n",
    "ax3.boxplot(infubinol_data, flierprops=outlier_style)\n",
    "ax3.set_ylim(19, 81)\n",
    "\n",
    "ax4.set_title('Ceftamin')\n",
    "ax4.boxplot(ceftamin_data, flierprops=outlier_style)\n",
    "ax4.set_ylim(19, 81)\n",
    "\n",
    "plt.tight_layout()"
   ]
  },
  {
   "cell_type": "markdown",
   "metadata": {},
   "source": [
    "## Line and Scatter Plots"
   ]
  },
  {
   "cell_type": "code",
   "execution_count": 13,
   "metadata": {},
   "outputs": [
    {
     "data": {
      "text/plain": [
       "([<matplotlib.axis.YTick at 0x7fb1f8791b38>,\n",
       "  <matplotlib.axis.YTick at 0x7fb1f87919b0>,\n",
       "  <matplotlib.axis.YTick at 0x7fb1f8765e80>,\n",
       "  <matplotlib.axis.YTick at 0x7fb1f8858a20>,\n",
       "  <matplotlib.axis.YTick at 0x7fb1f8858e80>,\n",
       "  <matplotlib.axis.YTick at 0x7fb1f885d550>,\n",
       "  <matplotlib.axis.YTick at 0x7fb1f885dac8>,\n",
       "  <matplotlib.axis.YTick at 0x7fb1f88660b8>,\n",
       "  <matplotlib.axis.YTick at 0x7fb1f88665f8>,\n",
       "  <matplotlib.axis.YTick at 0x7fb1f885de48>,\n",
       "  <matplotlib.axis.YTick at 0x7fb1f8851fd0>,\n",
       "  <matplotlib.axis.YTick at 0x7fb1f8866470>],\n",
       " <a list of 12 Text yticklabel objects>)"
      ]
     },
     "execution_count": 13,
     "metadata": {},
     "output_type": "execute_result"
    },
    {
     "data": {
      "image/png": "[encoded data removed]",
      "text/plain": [
       "<Figure size 432x288 with 1 Axes>"
      ]
     },
     "metadata": {
      "needs_background": "light"
     },
     "output_type": "display_data"
    }
   ],
   "source": [
    "# Generate a line plot of tumor volume vs. time point for a mouse treated with Capomulin\n",
    "\n",
    "#Specify mouse and then filter down to that ID\n",
    "mouse = 'x401'\n",
    "\n",
    "one_mouse = clean_mouse_data.loc[clean_mouse_data['Mouse ID'] == mouse, :]\n",
    "\n",
    "#Get time and tumor volume from the narrowed data\n",
    "timepoint = one_mouse['Timepoint']\n",
    "tumor = one_mouse['Tumor Volume (mm3)']\n",
    "\n",
    "#Plot\n",
    "plt.plot(timepoint, tumor)\n",
    "\n",
    "#Specify titles, axes, etc\n",
    "plt.title(\"Tumor Volume Over Tretment Time for Mouse x401\")\n",
    "plt.xlabel(\"Day\")\n",
    "plt.ylabel(\"Tumor Volume (mm3)\")\n",
    "\n",
    "plt.xlim(-1, 46)\n",
    "plt.ylim(25, 47)\n",
    "\n",
    "#Adjust ticks to a more readable step size\n",
    "plt.xticks(np.arange(0, 46, step=5))\n",
    "plt.yticks(np.arange(25, 48, step=2))\n"
   ]
  },
  {
   "cell_type": "code",
   "execution_count": 14,
   "metadata": {},
   "outputs": [
    {
     "data": {
      "text/plain": [
       "([<matplotlib.axis.YTick at 0x7fb1f849f4a8>,\n",
       "  <matplotlib.axis.YTick at 0x7fb1f8495f98>,\n",
       "  <matplotlib.axis.YTick at 0x7fb1f847bac8>,\n",
       "  <matplotlib.axis.YTick at 0x7fb1f847b240>,\n",
       "  <matplotlib.axis.YTick at 0x7fb1f84885f8>,\n",
       "  <matplotlib.axis.YTick at 0x7fb1f8488c18>,\n",
       "  <matplotlib.axis.YTick at 0x7fb1f84b4240>,\n",
       "  <matplotlib.axis.YTick at 0x7fb1f8488710>],\n",
       " <a list of 8 Text yticklabel objects>)"
      ]
     },
     "execution_count": 14,
     "metadata": {},
     "output_type": "execute_result"
    },
    {
     "data": {
      "image/png": "[encoded data removed]",
      "text/plain": [
       "<Figure size 432x288 with 1 Axes>"
      ]
     },
     "metadata": {
      "needs_background": "light"
     },
     "output_type": "display_data"
    }
   ],
   "source": [
    "# Generate a scatter plot of average tumor volume vs. mouse weight for the Capomulin regimen\n",
    "\n",
    "#Filter to capomulin only\n",
    "capomulin_only = clean_mouse_data.loc[(clean_mouse_data['Drug Regimen'] == 'Capomulin'), :]\n",
    "\n",
    "#Group by mouse to get average tumor volume\n",
    "#(Weight stays the same int he grouped because it's a contant value in the clean data table)\n",
    "grouped_capomulin = capomulin_only.groupby('Mouse ID').mean()\n",
    "\n",
    "#Plot from grouped\n",
    "plt.scatter(grouped_capomulin['Weight (g)'], grouped_capomulin[\"Tumor Volume (mm3)\"])\n",
    "\n",
    "#Specify titles, axes, etc\n",
    "plt.title(\"Average Tumor Volume vs Weight for Mice on Capomulin Regimen\")\n",
    "plt.xlabel(\"Weight (g)\")\n",
    "plt.ylabel(\"Average Tumor Volume (mm3)\")\n",
    "\n",
    "plt.xlim(14, 26)\n",
    "plt.ylim(32, 48)\n",
    "\n",
    "#Adjust ticks to a more readable step size\n",
    "plt.xticks(np.arange(15, 26, step=2))\n",
    "plt.yticks(np.arange(33, 48, step=2))\n",
    "                                       "
   ]
  },
  {
   "cell_type": "markdown",
   "metadata": {},
   "source": [
    "## Correlation and Regression"
   ]
  },
  {
   "cell_type": "code",
   "execution_count": 15,
   "metadata": {},
   "outputs": [
    {
     "name": "stdout",
     "output_type": "stream",
     "text": [
      "The correlation coefficient between weight and average tumor volume is 0.84\n",
      "The equation for the linear regression model is y = 0.95x + 21.55\n"
     ]
    }
   ],
   "source": [
    "# Calculate the correlation coefficient and linear regression model \n",
    "# for mouse weight and average tumor volume for the Capomulin regimen\n",
    "x_values = grouped_capomulin['Weight (g)']\n",
    "y_values = grouped_capomulin[\"Tumor Volume (mm3)\"]\n",
    "\n",
    "#Get the correlation between x and y\n",
    "correlation = st.pearsonr(x_values, y_values)\n",
    "\n",
    "#Get equation of the regression\n",
    "(slope, intercept, rvalue, pvalue, stderr) = linregress(x_values, y_values)\n",
    "line_eq = \"y = \" + str(round(slope,2)) + \"x + \" + str(round(intercept,2))\n",
    "\n",
    "\n",
    "print(f\"The correlation coefficient between weight and average tumor volume is {round(correlation[0],2)}\")\n",
    "print(f\"The equation for the linear regression model is {line_eq}\")"
   ]
  }
 ],
 "metadata": {
  "anaconda-cloud": {},
  "kernelspec": {
   "display_name": "Python 3",
   "language": "python",
   "name": "python3"
  },
  "language_info": {
   "codemirror_mode": {
    "name": "ipython",
    "version": 3
   },
   "file_extension": ".py",
   "mimetype": "text/x-python",
   "name": "python",
   "nbconvert_exporter": "python",
   "pygments_lexer": "ipython3",
   "version": "3.6.10"
  }
 },
 "nbformat": 4,
 "nbformat_minor": 4
}
